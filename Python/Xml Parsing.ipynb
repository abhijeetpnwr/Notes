{
 "cells": [
  {
   "cell_type": "markdown",
   "metadata": {},
   "source": [
    "# XML Parsing using  xml.etree.ElementTree Module:\n",
    "\n",
    "\n",
    "The xml.etree.ElementTree module implements a simple and efficient API for parsing and creating XML data.\n",
    "\n",
    "This is a short tutorial for using xml.etree.ElementTree (ET in short). The goal is to demonstrate some of the building blocks and basic concepts of the module.\n",
    "\n",
    "**XML tree and elements:**\n",
    "XML is an inherently hierarchical data format, and the most natural way to represent it is with a tree. ET has two classes for this purpose - ElementTree represents the whole XML document as a tree, and Element represents a single node in this tree. Interactions with the whole document (reading and writing to/from files) are usually done on the ElementTree level. Interactions with a single XML element and its sub-elements are done on the Element level.\n",
    "\n",
    "**Parsing XML**\n",
    "We’ll be using the following XML document as the sample data for this section:"
   ]
  },
  {
   "cell_type": "markdown",
   "metadata": {},
   "source": [
    "We are reading  this [abstract file](samples/test.xml)"
   ]
  },
  {
   "cell_type": "markdown",
   "metadata": {},
   "source": [
    "We can import this data by reading from a file:"
   ]
  },
  {
   "cell_type": "code",
   "execution_count": 68,
   "metadata": {
    "collapsed": true
   },
   "outputs": [],
   "source": [
    "import xml.etree.ElementTree as ET\n",
    "tree = ET.parse('samples/test.xml')\n",
    "root = tree.getroot()"
   ]
  },
  {
   "cell_type": "markdown",
   "metadata": {},
   "source": [
    "fromstring() parses XML from a string directly into an Element, which is the root element of the parsed tree. Other parsing functions may create an ElementTree. Check the documentation to be sure.\n",
    "\n",
    "As an Element, root has a tag and a dictionary of attributes:\n",
    "\n"
   ]
  },
  {
   "cell_type": "code",
   "execution_count": 69,
   "metadata": {
    "collapsed": false
   },
   "outputs": [
    {
     "name": "stdout",
     "output_type": "stream",
     "text": [
      "PubmedArticleSet\n",
      "{}\n"
     ]
    }
   ],
   "source": [
    "print(root.tag)\n",
    "\n",
    "print(root.attrib) #No attribut to PubmedArticleSet so print blank"
   ]
  },
  {
   "cell_type": "markdown",
   "metadata": {},
   "source": [
    "It also has children nodes over which we can iterate:\n",
    "\n"
   ]
  },
  {
   "cell_type": "code",
   "execution_count": 70,
   "metadata": {
    "collapsed": false
   },
   "outputs": [
    {
     "name": "stdout",
     "output_type": "stream",
     "text": [
      "PubmedArticle {}\n",
      "PubmedArticle {}\n",
      "PubmedArticle {}\n",
      "PubmedArticle {}\n",
      "PubmedArticle {}\n"
     ]
    }
   ],
   "source": [
    "for child in root:\n",
    "    print(child.tag, child.attrib)"
   ]
  },
  {
   "cell_type": "markdown",
   "metadata": {},
   "source": [
    "Children are nested, and we can access specific child nodes by index:"
   ]
  },
  {
   "cell_type": "code",
   "execution_count": 71,
   "metadata": {
    "collapsed": false
   },
   "outputs": [
    {
     "name": "stdout",
     "output_type": "stream",
     "text": [
      "\n",
      " {'Status': 'Publisher', 'Owner': 'NLM'}\n",
      "\n",
      " {'PubModel': 'Electronic-eCollection'}\n",
      "\n",
      " {'NlmCategory': 'UNASSIGNED'}\n",
      "\n",
      " We report a case study of natural variations and correlations of some photosynthetic parameters, green biomass and grain yield in Cappelle Desprez and Plainsman V winter wheat (Triticum aestivum L.) cultivars, which are classified as being drought sensitive and tolerant, respectively. We monitored biomass accumulation from secondary leaves in the vegetative phase and grain yield from flag leaves in the grain filling period. Interestingly, we observed higher biomass production, but lower grain yield stability in the sensitive Cappelle cultivar, as compared to the tolerant Plainsman cv. Higher biomass production in the sensitive variety was correlated with enhanced water-use efficiency. Increased cyclic electron flow around PSI was also observed in the Cappelle cv. under drought stress as sh\n"
     ]
    }
   ],
   "source": [
    "print(\"\\n\",root[0][0].attrib)\n",
    "\n",
    "print(\"\\n\",root[0][0][3].attrib)\n",
    "\n",
    "print(\"\\n\",root[0][0][3][3][0].attrib)\n",
    "\n",
    "print(\"\\n\",root[0][0][3][3][0].text[0:800]) #Printing only first 800 chars"
   ]
  },
  {
   "cell_type": "markdown",
   "metadata": {},
   "source": [
    "\n",
    "\n",
    "\n",
    "**Finding interesting elements:**\n",
    "Element has some useful methods that help iterate recursively over all the sub-tree below it (its children, their children, and so on). For example, Element.iter():"
   ]
  },
  {
   "cell_type": "code",
   "execution_count": 72,
   "metadata": {
    "collapsed": false
   },
   "outputs": [
    {
     "name": "stdout",
     "output_type": "stream",
     "text": [
      "\n",
      "\n",
      " We report a case study of natural variations and correlations of some photosynthetic parameters, green biomass and grain yield in Cappelle Desprez and Plainsman V winter wheat (Triticum aestivum L.) cultivars, which are classified as being drought sensitive and tolerant, respectively. We monitored biomass accumulation from secondary leaves in the vegetative phase and grain yield from flag leaves in the grain filling period. Interestingly, we observed higher biomass production, but lower grain yi\n"
     ]
    }
   ],
   "source": [
    "abstractcount = 0\n",
    "text = \"\"\n",
    "for Abstract in root.iter('AbstractText'):\n",
    "    text = text + Abstract.text #Iterates through all Abstract text tags and gets text from them\n",
    "print (\"\\n\\n\",text[0:500]) #only printing first 500 chars to show"
   ]
  },
  {
   "cell_type": "markdown",
   "metadata": {},
   "source": [
    "**Element.findall()** finds only elements with a tag which are direct children of the current element. Element.find() finds the first child with a particular tag, and Element.text accesses the element’s text content. Element.get() accesses the element’s attributes"
   ]
  },
  {
   "cell_type": "code",
   "execution_count": 73,
   "metadata": {
    "collapsed": false
   },
   "outputs": [
    {
     "name": "stdout",
     "output_type": "stream",
     "text": [
      "\n",
      " <Element 'PubmedArticle' at 0x7f6576c4c368>\n",
      "\n",
      " <Element 'PubmedArticle' at 0x7f6576c4a1d8>\n",
      "\n",
      " <Element 'PubmedArticle' at 0x7f6576c58688>\n",
      "\n",
      " <Element 'PubmedArticle' at 0x7f6576c5fc78>\n",
      "\n",
      " <Element 'PubmedArticle' at 0x7f6576c6a2c8>\n"
     ]
    }
   ],
   "source": [
    "for PubmedArticlte in root.findall('PubmedArticle'):\n",
    "    print(\"\\n\",PubmedArticlte)  #So finds  direct children\n",
    "    \n",
    "\n",
    "for AbstractText in root.findall('AbstractText'):\n",
    "    print(AbstractText)  # AbstractText is   not direct child of root so can'r find it ,No loop performed\n",
    "    \n",
    "    "
   ]
  },
  {
   "cell_type": "code",
   "execution_count": null,
   "metadata": {
    "collapsed": true
   },
   "outputs": [],
   "source": []
  }
 ],
 "metadata": {
  "kernelspec": {
   "display_name": "Python 3",
   "language": "python",
   "name": "python3"
  },
  "language_info": {
   "codemirror_mode": {
    "name": "ipython",
    "version": 3
   },
   "file_extension": ".py",
   "mimetype": "text/x-python",
   "name": "python",
   "nbconvert_exporter": "python",
   "pygments_lexer": "ipython3",
   "version": "3.6.0"
  }
 },
 "nbformat": 4,
 "nbformat_minor": 2
}
