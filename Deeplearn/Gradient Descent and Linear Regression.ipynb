{
 "cells": [
  {
   "cell_type": "markdown",
   "metadata": {},
   "source": [
    "# Gradient Descent:\n",
    "\n",
    "Gradient descent is one of those “greatest hits” algorithms that can offer a new perspective for solving problems. \n",
    "\n",
    "At a theoretical level, gradient descent is an algorithm that minimizes functions. Given a function defined by a set of parameters, gradient descent starts with an initial set of parameter values and iteratively moves toward a set of parameter values that minimize the function(# Notes). This iterative minimization is achieved using calculus, taking steps in the negative direction of the function gradient.This iterative minimization is achieved using calculus, taking steps in the negative direction of the function gradient.\n",
    "\n",
    "It’s sometimes difficult to see how this mathematical explanation translates into a practical setting, so it’s helpful to look at an example. The canonical example when explaining gradient descent is linear regression.\n",
    "\n",
    "\n",
    "Code for this can be found at: [Githubcode](https://github.com/mattnedrich/GradientDescentExample)\n",
    "\n",
    "**In Layman's terms:**\n",
    "\n",
    "assume you are at the top of a mountain. And you are blind. Your aim is to arrive the piedmont to below as quickly as possible.\n",
    "\n",
    "![Mountain](https://qph.ec.quoracdn.net/main-qimg-c2f0febd264b56ca142c8e897003a018-c)\n",
    "\n",
    "You also do not know the structure of the mountain side as well thus most reasonable choice is to choose steepest descent to go down but as I said you are blind so no structural information in advance.You need a some kind of heuristic to find the correct way. One of the best choice and the simplest one is to check the decline rate by single step for each possible direction and choose the most steepest one. Gradient of a function also gives the this heuristic information to algorithm when we think the function as a mountain landscape that we try to find the lowest part as the minimum of the function."
   ]
  },
  {
   "cell_type": "markdown",
   "metadata": {},
   "source": [
    "# Linear Regression :\n",
    "    \n",
    "Simply stated, the goal of linear regression is to fit a line to a set of points. Consider the following data.\n",
    "![Linear Regression](https://spin.atomicobject.com/wp-content/uploads/points_for_linear_regression1.png)\n",
    "\n",
    "Let’s suppose we want to model the above set of points with a line. To do this we’ll use the standard(#-Notes) y = mx + b \n",
    "line equation where m is the line’s slope and b is the line’s y-intercept. To find the best line for our data, we need to find the best set of slope m and y-intercept b values.\n",
    "\n",
    "Let’s suppose we want to model the above set of points with a line. To do this we’ll use the standard y = mx + b line equation where m is the line’s slope and b is the line’s y-intercept. To find the best line for our data, we need to find the best set of slope m and y-intercept b values.\n",
    "\n",
    "A standard approach to solving this type of problem is to define an error function (also called a cost function) that measures how “good” a given line is. This function will take in a (m,b) pair and return an error value based on how well the line fits our data. To compute this error for a given line, we’ll iterate through each (x,y) point in our data set and sum the square distances between each point’s y value and the candidate line’s y value (computed at mx + b). It’s conventional to square this distance to ensure that it is positive and to make our error function differentiable. "
   ]
  },
  {
   "cell_type": "code",
   "execution_count": 8,
   "metadata": {
    "collapsed": false
   },
   "outputs": [],
   "source": [
    "#In python code will look something like:\n",
    "    \n",
    "    # y = mx + b\n",
    "# m is slope, b is y-intercept\n",
    "def computeErrorForLineGivenPoints(b, m, points):\n",
    "    totalError = 0\n",
    "    for i in range(0, len(points)):\n",
    "        #if x is same for both , then distance is y2-y1 straight .  To prevent we take square of it.\n",
    "        \n",
    "        totalError += (points[i].y - (m * points[i].x + b)) ** 2\n",
    "    return totalError / float(len(points))"
   ]
  },
  {
   "cell_type": "markdown",
   "metadata": {},
   "source": [
    "Lines that fit our data better (where better is defined by our error function) will result in lower error values. If we minimize this function, we will get the best line for our data. Since our error function consists of two parameters (m and b) we can visualize it as a two-dimensional surface. This is what it looks like for our data set:\n",
    "\n",
    "![Dataset view](https://spin.atomicobject.com/wp-content/uploads/gradient_descent_error_surface.png)\n",
    "\n",
    "Each point in this two-dimensional space represents a line. The height of the function at each point is the error value for that line. You can see that some lines yield smaller error values than others (i.e., fit our data better). When we run gradient descent search, we will start from some location on this surface and move downhill to find the line with the lowest error.\n",
    "\n",
    "To run gradient descent on this error function, we first need to compute its gradient. The gradient will act like a compass and always point us downhill. To compute it, we will need to differentiate our error function. \n",
    "\n",
    "So we will keep looking for right m and b values .REsults into somethign like this:\n",
    "\n",
    "![Image](https://spin.atomicobject.com/wp-content/uploads/gradient_descent_search1.png)\n",
    "\n",
    "For more detailed analysis with code read [this](https://spin.atomicobject.com/2014/06/24/gradient-descent-linear-regression/)\n",
    "\n",
    "\n",
    "Watch video on youtube :\n"
   ]
  },
  {
   "cell_type": "code",
   "execution_count": 12,
   "metadata": {
    "collapsed": false
   },
   "outputs": [
    {
     "data": {
      "image/jpeg": "[encoded data removed]",
      "text/html": [
       "\n",
       "        <iframe\n",
       "            width=\"400\"\n",
       "            height=\"300\"\n",
       "            src=\"https://www.youtube.com/embed/JuAJd9Qvs6U\"\n",
       "            frameborder=\"0\"\n",
       "            allowfullscreen\n",
       "        ></iframe>\n",
       "        "
      ],
      "text/plain": [
       "<IPython.lib.display.YouTubeVideo at 0x7f08f4580828>"
      ]
     },
     "execution_count": 12,
     "metadata": {},
     "output_type": "execute_result"
    }
   ],
   "source": [
    "from IPython.display import YouTubeVideo\n",
    "\n",
    "# Youtube\n",
    "YouTubeVideo('JuAJd9Qvs6U')\n",
    "\n",
    "\n"
   ]
  },
  {
   "cell_type": "markdown",
   "metadata": {},
   "source": [
    "# Notes:  \n",
    "\n",
    "\n",
    "\n",
    "**1.Minimizing a function**: Minimizing a function f(x) is finding the value x for which f(x) is the lowest.we are looking for the optimal values to represent a line which goes the nearest possible between the values\n",
    "    so in the notation used here the thetas are the coefficients in some polynomial function. That's what we're trying to find. So our job is to find the least-wrong set of thetas. To do that, we make a function that gives us the wrongness of a particular set of thetas against our training data. It's called the cost function, which is kind of a crappy name in this context.So the job of the learning algorithm is to find those thetas that give you the least error, or in other words that minimize the cost function. This is useful because minimization is a problem we know how to solve in lots of different ways. The class has told us about two of them so far.\n",
    "\n",
    "\n",
    "**2.Line Equation:**\n",
    "![line](Images/lineeq.jpeg)"
   ]
  },
  {
   "cell_type": "markdown",
   "metadata": {},
   "source": [
    "More details about  understanding equation at [this page](https://www.mathsisfun.com/algebra/linear-equations.html)\n",
    "\n",
    "You can play with linear equation at [this example](https://www.mathsisfun.com/data/straight_line_graph.html)"
   ]
  }
 ],
 "metadata": {
  "kernelspec": {
   "display_name": "Python 3",
   "language": "python",
   "name": "python3"
  },
  "language_info": {
   "codemirror_mode": {
    "name": "ipython",
    "version": 3
   },
   "file_extension": ".py",
   "mimetype": "text/x-python",
   "name": "python",
   "nbconvert_exporter": "python",
   "pygments_lexer": "ipython3",
   "version": "3.6.0"
  }
 },
 "nbformat": 4,
 "nbformat_minor": 2
}
