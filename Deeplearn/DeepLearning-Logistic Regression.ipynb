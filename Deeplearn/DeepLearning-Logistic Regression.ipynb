{
 "cells": [
  {
   "cell_type": "markdown",
   "metadata": {},
   "source": [
    "## Logisteic Regression:\n",
    "\n",
    "In statistics, logistic regression, or logit regression, or logit model[1] is a regression model where the dependent variable (DV) is categorical. This article covers the case of a binary dependent variable—that is, where it can take only two values, \"0\" and \"1\", which represent outcomes such as pass/fail, win/lose, alive/dead or healthy/sick. Cases where the dependent variable has more than two outcome categories may be analysed in multinomial logistic regression, or, if the multiple categories are ordered, in ordinal logistic regression.[2] In the terminology of economics, logistic regression is an example of a qualitative response/discrete choice model\n",
    "\n",
    "Logistic regression was developed by statistician David Cox in 1958.[2][3] The binary logistic model is used to estimate the probability of a binary response based on one or more predictor (or independent) variables (features). It allows one to say that the presence of a risk factor increases the probability of a given outcome by a specific percentage.\n",
    "\n",
    "**Example: Probability of passing an exam versus hours of study:**\n",
    "\n",
    "The reason for using Logistic Regression for this problem is that the dependent variable pass/fail represented by \"1\" and \"0\" are not cardinal numbers. If the problem were changed so that pass/fail was replaced with the grade 0–100 (cardinal numbers), then simple regression analysis could be used."
   ]
  },
  {
   "cell_type": "markdown",
   "metadata": {},
   "source": [
    "A group of 20 students spend between 0 and 6 hours studying for an exam. How does the number of hours spent studying affect the probability that the student will pass the exam?\n",
    "\n"
   ]
  },
  {
   "cell_type": "markdown",
   "metadata": {},
   "source": [
    "The table shows the number of hours each student spent studying, and whether they passed (1) or failed (0).\n",
    "\n",
    "\n",
    "|Hours\t|0.50|0.75|1.00|1.25| 1.50 |1.75|1.75|2.00|2.25|2.50|2.75|3.00|3.25|3.50|4.00|4.25|4.50|4.75|5.00|5.50|\n",
    "|-------|----|----|----|----|------|----|----|----|----|----|----|----|----|----|----|----|----|----|----|----|\n",
    "|Pass\t|0\t|0\t|0 |\t0|\t0|\t0|\t1|\t0|\t1|\t0|\t1|\t0|\t1|\t0|\t1|\t1|\t1|\t1|\t1|\t1|\n",
    "\n",
    "\n",
    "The graph shows the probability of passing the exam versus the number of hours studying, with the logistic regression curve fitted to the data.\n",
    "\n",
    "![title](https://upload.wikimedia.org/wikipedia/commons/thumb/6/6d/Exam_pass_logistic_curve.jpeg/400px-Exam_pass_logistic_curve.jpeg)\n",
    "\n",
    "\n",
    "Graph of a logistic regression curve showing probability of passing an exam versus hours studying\n",
    "The logistic regression analysis gives the following output."
   ]
  },
  {
   "cell_type": "markdown",
   "metadata": {},
   "source": [
    "The logistic regression analysis gives the following output.\n",
    "\n",
    "|               |Coefficient\t|Std.Error |\tz-value |\tP-value (Wald)|\n",
    "|---------------|----------|------------|-----------------|\n",
    "|Intercept\t|−4.0777\t|1.7610\t|−2.316\t|0.0206|\n",
    "|    Hours\t|1.5046\t|0.6287\t|2.393\t|0.0167|\n",
    "The output indicates that hours studying is significantly associated with the probability of passing the exam (p=0.0167, Wald test). The output also provides the coefficients for Intercept = -4.0777 and Hours = 1.5046. These coefficients are entered in the logistic regression equation to estimate the probability of passing the exam:\n",
    "\n"
   ]
  },
  {
   "cell_type": "markdown",
   "metadata": {},
   "source": [
    "**Probability of passing exam =1/(1+exp(-(-4.0777+1.5046* Hours)))**"
   ]
  },
  {
   "cell_type": "markdown",
   "metadata": {},
   "source": [
    "For example, for a student who studies 2 hours, entering the value Hours = 2 in the equation gives the estimated probability of passing the exam of p = 0.26:\n",
    "\n",
    "Probability of passing exam =1/(1 + exp(−(−4.0777 + 1.5046·2))) = 0.26.\n",
    "Similarly, for a student who studies 4 hours, the estimated probability of passing the exam is p=0.87:\n",
    "\n",
    "Probability of passing exam =1/(1 + exp(−(−4.0777 + 1.5046·4))) = 0.87."
   ]
  },
  {
   "cell_type": "markdown",
   "metadata": {},
   "source": [
    "\n",
    "\n",
    "Binomial or binary logistic regression deals with situations in which the observed outcome for a dependent variable can have only two possible types, \"0\" and \"1\" (which may represent, for example, \"dead\" vs. \"alive\" or \"win\" vs. \"loss\"). Multinomial logistic regression deals with situations where the outcome can have three or more possible types (e.g., \"disease A\" vs. \"disease B\" vs. \"disease C\") that are not ordered. Ordinal logistic regression deals with dependent variables that are ordered. In binary logistic regression, the outcome is usually coded as \"0\" or \"1\", as this leads to the most straightforward interpretation.[14] If a particular observed outcome for the dependent variable is the noteworthy possible outcome (referred to as a \"success\" or a \"case\") it is usually coded as \"1\" and the contrary outcome (referred to as a \"failure\" or a \"noncase\") as \"0\". Logistic regression is used to predict the odds of being a case based on the values of the independent variables (predictors). The odds are defined as the probability that a particular outcome is a case divided by the probability that it is a noncase."
   ]
  },
  {
   "cell_type": "markdown",
   "metadata": {},
   "source": [
    "**Logistic regression vs. other approaches**:\n",
    "    \n",
    "Logistic regression measures the relationship between the categorical dependent variable and one or more independent variables by estimating probabilities using a logistic function, which is the cumulative logistic distribution. Thus, it treats the same set of problems as probit regression using similar techniques, with the latter using a cumulative normal distribution curve instead. Equivalently, in the latent variable interpretations of these two methods, the first assumes a standard logistic distribution of errors and the second a standard normal distribution of errors.[15]\n",
    "\n",
    "Logistic regression can be seen as a special case of the generalized linear model and thus analogous to linear regression. The model of logistic regression, however, is based on quite different assumptions (about the relationship between dependent and independent variables) from those of linear regression. In particular the key differences of these two models can be seen in the following two features of logistic regression. \n",
    "\n",
    "\n",
    "    "
   ]
  },
  {
   "cell_type": "code",
   "execution_count": 3,
   "metadata": {
    "collapsed": false
   },
   "outputs": [
    {
     "data": {
      "image/jpeg": "[encoded data removed]",
      "text/html": [
       "\n",
       "        <iframe\n",
       "            width=\"400\"\n",
       "            height=\"300\"\n",
       "            src=\"https://www.youtube.com/embed/JuAJd9Qvs6U\"\n",
       "            frameborder=\"0\"\n",
       "            allowfullscreen\n",
       "        ></iframe>\n",
       "        "
      ],
      "text/plain": [
       "<IPython.lib.display.YouTubeVideo at 0x7f6f1410d780>"
      ]
     },
     "execution_count": 3,
     "metadata": {},
     "output_type": "execute_result"
    }
   ],
   "source": [
    "#WAtch related video on udacity \n",
    "\n",
    "\n",
    "from IPython.display import YouTubeVideo\n",
    "\n",
    "# Youtube\n",
    "YouTubeVideo('JuAJd9Qvs6U')\n"
   ]
  }
 ],
 "metadata": {
  "kernelspec": {
   "display_name": "Python 3",
   "language": "python",
   "name": "python3"
  },
  "language_info": {
   "codemirror_mode": {
    "name": "ipython",
    "version": 3
   },
   "file_extension": ".py",
   "mimetype": "text/x-python",
   "name": "python",
   "nbconvert_exporter": "python",
   "pygments_lexer": "ipython3",
   "version": "3.6.0"
  }
 },
 "nbformat": 4,
 "nbformat_minor": 2
}
